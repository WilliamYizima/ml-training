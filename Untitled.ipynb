{
 "cells": [
  {
   "cell_type": "code",
   "execution_count": 10,
   "metadata": {},
   "outputs": [],
   "source": [
    "import requests\n",
    "import json\n",
    "import pandas as pd"
   ]
  },
  {
   "cell_type": "code",
   "execution_count": 15,
   "metadata": {
    "scrolled": true
   },
   "outputs": [
    {
     "name": "stdout",
     "output_type": "stream",
     "text": [
      "<Response [200]>\n",
      "{\n",
      "    \"method\": \"get\",\n",
      "    \"status\": \"failure\",\n",
      "    \"reason\": {\n",
      "        \"code\": 62,\n",
      "        \"description\": \"There's no processor available for requested resource type\"\n",
      "    },\n",
      "    \"id\": \"123\",\n",
      "    \"from\": \"postmaster@msging.net/#iris-hosted-5\",\n",
      "    \"to\": \"bottestb2b@msging.net/!iris-hosted-5-lorcsihe\",\n",
      "    \"metadata\": {\n",
      "        \"#command.uri\": \"lime://bottestb2b@msging.net/metrics/engaged-identity/D?startDate=2021-03-29T03%3A00%3A00.000Z&endDate=2021-03-30T03%3A00%3A00.000Z\",\n",
      "        \"uber-trace-id\": \"53cb3d1e09d1ae34%3Aa5be63287e36f405%3A53cb3d1e09d1ae34%3A1\"\n",
      "    }\n",
      "}\n"
     ]
    }
   ],
   "source": [
    "# url = f'https://ibot.ifcdns.com.br:7788/monitor/indicators/tags/values?tag={tag}&start={start_date}T00%3A00%3A00.000-03%3A00&end={end_date}T00%3A00%3A00.000-03%3A00'\n",
    "# r = requests.get(uri)\n",
    "# return r.json()\n",
    "uri = \"/metrics/engaged-identity/D?startDate=2021-03-29T03%3A00%3A00.000Z&endDate=2021-03-30T03%3A00%3A00.000Z\"\n",
    "url = 'https://msging.net/commands'\n",
    "headers = {'content-type': 'application/json', 'Authorization':'Key Ym90dGVzdGIyYjpDUVhheG1nSDAyYzZnaG9pQjZLdg=='}\n",
    "payload = {  \n",
    "  \"id\": \"123\",\n",
    "  \"method\": \"get\",\n",
    "  \"uri\": f'{uri}' \n",
    "}\n",
    "r = requests.post(url, \n",
    "                  data=json.dumps(payload),\n",
    "                  headers=headers)\n",
    "#                   data=payload)\n",
    "\n",
    "print(r)\n",
    "parsed = json.loads(r.text)\n",
    "print(json.dumps(parsed,indent=4))\n",
    "# r = requests.post(\"http://httpbin.org/post\")"
   ]
  },
  {
   "cell_type": "code",
   "execution_count": 17,
   "metadata": {},
   "outputs": [
    {
     "data": {
      "text/html": [
       "<div>\n",
       "<style scoped>\n",
       "    .dataframe tbody tr th:only-of-type {\n",
       "        vertical-align: middle;\n",
       "    }\n",
       "\n",
       "    .dataframe tbody tr th {\n",
       "        vertical-align: top;\n",
       "    }\n",
       "\n",
       "    .dataframe thead th {\n",
       "        text-align: right;\n",
       "    }\n",
       "</style>\n",
       "<table border=\"1\" class=\"dataframe\">\n",
       "  <thead>\n",
       "    <tr style=\"text-align: right;\">\n",
       "      <th></th>\n",
       "      <th>ChatBot</th>\n",
       "      <th>Api Key</th>\n",
       "    </tr>\n",
       "  </thead>\n",
       "  <tbody>\n",
       "    <tr>\n",
       "      <th>0</th>\n",
       "      <td>3m</td>\n",
       "      <td>Key dHJlc206Q0I4Ukc3ZUtYb3I4MVZ3QmFSNnM=</td>\n",
       "    </tr>\n",
       "    <tr>\n",
       "      <th>1</th>\n",
       "      <td>511tactical</td>\n",
       "      <td>Key YjJjdGFjdGljYWw6T0Z2M25XRWd3emRKVXJjV2VJeHo=</td>\n",
       "    </tr>\n",
       "    <tr>\n",
       "      <th>2</th>\n",
       "      <td>armani</td>\n",
       "      <td>Key YjJjYXJtYW5pOlVNMzZDTjgzWXlOZXZuSXBwUmF3</td>\n",
       "    </tr>\n",
       "    <tr>\n",
       "      <th>3</th>\n",
       "      <td>carinhosokids</td>\n",
       "      <td>Key Y2FyaW5ob3NvOkdyQTJKY3M0SzBEYlVQMjFqb1Ry</td>\n",
       "    </tr>\n",
       "    <tr>\n",
       "      <th>4</th>\n",
       "      <td>carters</td>\n",
       "      <td>Key YjJjY2FydGVyczpsUWFacGNZZVFGNXJQYVVTYzR1aw==</td>\n",
       "    </tr>\n",
       "  </tbody>\n",
       "</table>\n",
       "</div>"
      ],
      "text/plain": [
       "         ChatBot                                           Api Key\n",
       "0             3m          Key dHJlc206Q0I4Ukc3ZUtYb3I4MVZ3QmFSNnM=\n",
       "1    511tactical  Key YjJjdGFjdGljYWw6T0Z2M25XRWd3emRKVXJjV2VJeHo=\n",
       "2         armani      Key YjJjYXJtYW5pOlVNMzZDTjgzWXlOZXZuSXBwUmF3\n",
       "3  carinhosokids      Key Y2FyaW5ob3NvOkdyQTJKY3M0SzBEYlVQMjFqb1Ry\n",
       "4        carters  Key YjJjY2FydGVyczpsUWFacGNZZVFGNXJQYVVTYzR1aw=="
      ]
     },
     "execution_count": 17,
     "metadata": {},
     "output_type": "execute_result"
    }
   ],
   "source": [
    "dataset_keyapi = pd.read_csv('./problema-ibot.csv', sep=';')\n",
    "dataset_keyapi.head()"
   ]
  },
  {
   "cell_type": "code",
   "execution_count": 20,
   "metadata": {},
   "outputs": [],
   "source": [
    "def consumo(uri, api_key,metric):\n",
    "    uri = \"/threads/user\"\n",
    "    url = 'https://msging.net/commands'\n",
    "    headers = {'content-type': 'application/json', 'Authorization':'Key Ym90dGVzdGIyYjpDUVhheG1nSDAyYzZnaG9pQjZLdg=='}\n",
    "    payload = {  \n",
    "      \"id\": \"123\",\n",
    "      \"method\": \"get\",\n",
    "      \"uri\": f'{uri}' \n",
    "    }\n",
    "    r = requests.post(url, \n",
    "                      data=json.dumps(payload),\n",
    "                      headers=headers)\n",
    "    if (metric == 'quantidade de sessões'):\n",
    "        return r.items[0].count , 'quantidade de cliques'\n",
    "#     if (metric == 'quantidade de atendimentos'):\n",
    "#         return r.items[0].count, ''\n",
    "    if (metric == 'user_message_quantity'):\n",
    "        return r.items[0].count\n",
    "    if (metric == 'bot_message_quantity'):\n",
    "        return r.items[0].count\n",
    "    if (metric == 'user_choice'):\n",
    "        return r.distinct_tags[i].total, 'Navegação no IBot'"
   ]
  },
  {
   "cell_type": "code",
   "execution_count": 18,
   "metadata": {},
   "outputs": [
    {
     "name": "stdout",
     "output_type": "stream",
     "text": [
      "3m Key dHJlc206Q0I4Ukc3ZUtYb3I4MVZ3QmFSNnM=\n",
      "511tactical Key YjJjdGFjdGljYWw6T0Z2M25XRWd3emRKVXJjV2VJeHo=\n",
      "armani Key YjJjYXJtYW5pOlVNMzZDTjgzWXlOZXZuSXBwUmF3\n",
      "carinhosokids Key Y2FyaW5ob3NvOkdyQTJKY3M0SzBEYlVQMjFqb1Ry\n",
      "carters Key YjJjY2FydGVyczpsUWFacGNZZVFGNXJQYVVTYzR1aw==\n",
      "coloplast Key YjJjY29sb3BsYXN0OlZ6cUkxZGtCQm1CMmViR3J3WFQ1\n",
      "coty Key bG9qYWNvdHk6Z3BDQk8wR0owRUNTenJRM3h0WjI=\n",
      "dior Key ZGlvcjpYS25qQTBDZTh3dXZjZDgxY1Q0dg==\n",
      "f21 Key Zm9yZXZlcjIxOmxlNDh4andTdUZ6NkR5OWNxbnU1\n",
      "gama Key Z2FtYTE6MHRUcUNKS2VYQzdKTGRic2VETG4=\n",
      "malwee Key YjJjbWFsd2VlOjF0N3poZ3JFVlUxNFpJZU5sZWxy\n",
      "nike Key aW5mcmFjb21tZXJjZW5pa2Vwcm9kOkk5NWdhWUtQdGkyWFVWbGNJU21k\n",
      "omron Key c3RhcmsxOjBBSVNjNGVnbVNZNTlDUWZDeXJK\n",
      "polar Key YjJjcG9sYXI6NFNyRzNabmZ0WUZmWlJyR1FCZlI=\n",
      "sunglass Key YjJjc3VuZ2xhc3NodXQ6dmVCdGxuZlZQa0hBVGc2eDU4eU0=\n",
      "thomsonreuters Key YjJjdGhvbXNvbnJldXRlcnM6aTJIeXVldWRrV2tSdUs3QVA1aE4=\n",
      "universoenfim Key dW5pdmVyc29lbmZpbTp3cjlJekp3dTlzblZiM1pEMzdobw==\n",
      "yopro Key eW9wcm86NmtTMHpCRkY5QmRzbVRWWVdKV20=\n",
      "asics Key YjJjYXNpY3M6MXdORGRkbk9FRHZva3lrNjBibk0=\n",
      "panerai Key bG9qYXBhbmVyYWk6T01HdnVRRU4wWkNtZ05sT1h6YUc=\n",
      "jaeger Key bG9qYWplYWdlcmxlY291bHRyZTp5YkN1aFUxdjVsVnJucHF1VjJMYQ==\n"
     ]
    }
   ],
   "source": [
    "#row[ChatBot] = chatbot\n",
    "# \n",
    "for index, row in dataset_keyapi.iterrows():\n",
    "    print(row['ChatBot'], row['Api Key'])"
   ]
  },
  {
   "cell_type": "code",
   "execution_count": null,
   "metadata": {},
   "outputs": [],
   "source": []
  },
  {
   "cell_type": "code",
   "execution_count": null,
   "metadata": {},
   "outputs": [],
   "source": []
  }
 ],
 "metadata": {
  "kernelspec": {
   "display_name": "Python 3",
   "language": "python",
   "name": "python3"
  },
  "language_info": {
   "codemirror_mode": {
    "name": "ipython",
    "version": 3
   },
   "file_extension": ".py",
   "mimetype": "text/x-python",
   "name": "python",
   "nbconvert_exporter": "python",
   "pygments_lexer": "ipython3",
   "version": "3.8.5"
  }
 },
 "nbformat": 4,
 "nbformat_minor": 4
}

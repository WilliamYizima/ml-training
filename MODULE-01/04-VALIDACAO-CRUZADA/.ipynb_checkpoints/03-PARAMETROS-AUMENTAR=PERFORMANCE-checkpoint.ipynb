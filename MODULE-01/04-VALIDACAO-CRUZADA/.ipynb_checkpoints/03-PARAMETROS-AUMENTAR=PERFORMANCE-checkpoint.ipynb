{
 "cells": [
  {
   "cell_type": "markdown",
   "metadata": {},
   "source": [
    "## Parâmetros para melhorar performance"
   ]
  },
  {
   "cell_type": "markdown",
   "metadata": {},
   "source": [
    "- ajuste fino\n",
    "- alteração dos parâmetros, para melhorar os modelos\n",
    "- a chave para melhoria dos modelos\n",
    "- Existem funções que fazem um loop for para alterar os parâmetros(combinações) e testar"
   ]
  },
  {
   "cell_type": "code",
   "execution_count": 2,
   "metadata": {},
   "outputs": [],
   "source": [
    "import pandas as pd\n",
    "dataset_raw = pd.read_csv('./Admission_Predict.csv')\n",
    "dataset_raw.drop('Serial No.', axis=1, inplace=True)"
   ]
  },
  {
   "cell_type": "code",
   "execution_count": 3,
   "metadata": {},
   "outputs": [],
   "source": [
    "y = dataset_raw['Chance of Admit ']\n",
    "x = dataset_raw.drop('Chance of Admit ', axis = 1)"
   ]
  },
  {
   "cell_type": "markdown",
   "metadata": {},
   "source": [
    "## Randomized Search"
   ]
  },
  {
   "cell_type": "code",
   "execution_count": 5,
   "metadata": {},
   "outputs": [],
   "source": [
    "from sklearn.model_selection import RandomizedSearchCV\n",
    "from sklearn.linear_model import ElasticNet"
   ]
  },
  {
   "cell_type": "code",
   "execution_count": 6,
   "metadata": {},
   "outputs": [],
   "source": [
    "# definindo os valores que serão testados:\n",
    "# a função fará várias combinações conforme os valores abaixo dos parâmetros necessários para o Elastic Net(de forma randômica)\n",
    "# não faz todas as combinações possíveis\n",
    "valores = {\n",
    "    'alpha': [ 0.1,0.5,1,2,5,10,25,50,100,150,200,300,500,750,1000,1500,2000,3000,5000],\n",
    "    'l1_ratio':[0.02, 0.05,0.1,0.2,0.3,0.4,0.5,0.6,0.7,0.8,0.9]\n",
    "}\n"
   ]
  },
  {
   "cell_type": "code",
   "execution_count": 9,
   "metadata": {},
   "outputs": [
    {
     "name": "stdout",
     "output_type": "stream",
     "text": [
      "melhor score:0.7408292165331448\n",
      "melhor score:0.1\n",
      "melhor score:0.02\n"
     ]
    }
   ],
   "source": [
    "# criando o modelo\n",
    "modelo = ElasticNet()\n",
    "procura = RandomizedSearchCV(estimator=modelo, #qual  o algoritmo\n",
    "                             param_distributions= valores, # entrada é um dict - quais valores serão distribuidos \n",
    "                             n_iter=150,  # quantas iterações vai realizar\n",
    "                             cv=5, # utiliza o kfold internamente, com isso vc passa a quantidade k\n",
    "                             random_state=15)\n",
    "procura.fit(x,y)\n",
    "print(f'melhor score:{procura.best_score_}')\n",
    "print(f'melhor score:{procura.best_estimator_.alpha}')\n",
    "print(f'melhor score:{procura.best_estimator_.l1_ratio}')"
   ]
  },
  {
   "cell_type": "markdown",
   "metadata": {},
   "source": [
    "Com a função RandomizedSearchCV, é possível achar os melhores parametros para o algoritmo e então encontrar o melhor R2"
   ]
  },
  {
   "cell_type": "markdown",
   "metadata": {},
   "source": [
    "## GridSearchCV"
   ]
  },
  {
   "cell_type": "code",
   "execution_count": 12,
   "metadata": {},
   "outputs": [],
   "source": [
    "from sklearn.model_selection import GridSearchCV\n",
    "from sklearn.linear_model import ElasticNet"
   ]
  },
  {
   "cell_type": "code",
   "execution_count": 16,
   "metadata": {},
   "outputs": [],
   "source": [
    "# definindo os valores que serão testados:\n",
    "# vai testar todas as combinações possíveis\n",
    "valores = {\n",
    "    'alpha': [ 0.1,0.5,1,2,5,10,25,50,100,150,200,300,500,750,1000,1500,2000,3000,5000],\n",
    "    'l1_ratio':[0.02, 0.05,0.1,0.2,0.3,0.4,0.5,0.6,0.7,0.8,0.9]\n",
    "}\n"
   ]
  },
  {
   "cell_type": "code",
   "execution_count": 17,
   "metadata": {},
   "outputs": [
    {
     "name": "stdout",
     "output_type": "stream",
     "text": [
      "melhor score:0.7408292165331448\n",
      "melhor score:0.1\n",
      "melhor score:0.02\n"
     ]
    }
   ],
   "source": [
    "# criando o modelo\n",
    "modelo = ElasticNet()\n",
    "procura = GridSearchCV(estimator=modelo, #qual  o algoritmo\n",
    "                             param_grid = valores, # entrada é um dict - quais valores serão distribuidos \n",
    "                             cv=5, # utiliza o kfold internamente, com isso vc passa a quantidade k\n",
    "                            )\n",
    "procura.fit(x,y)\n",
    "print(f'melhor score:{procura.best_score_}')\n",
    "print(f'melhor score:{procura.best_estimator_.alpha}')\n",
    "print(f'melhor score:{procura.best_estimator_.l1_ratio}')"
   ]
  },
  {
   "cell_type": "code",
   "execution_count": null,
   "metadata": {},
   "outputs": [],
   "source": []
  }
 ],
 "metadata": {
  "kernelspec": {
   "display_name": "Python 3",
   "language": "python",
   "name": "python3"
  },
  "language_info": {
   "codemirror_mode": {
    "name": "ipython",
    "version": 3
   },
   "file_extension": ".py",
   "mimetype": "text/x-python",
   "name": "python",
   "nbconvert_exporter": "python",
   "pygments_lexer": "ipython3",
   "version": "3.8.5"
  }
 },
 "nbformat": 4,
 "nbformat_minor": 4
}

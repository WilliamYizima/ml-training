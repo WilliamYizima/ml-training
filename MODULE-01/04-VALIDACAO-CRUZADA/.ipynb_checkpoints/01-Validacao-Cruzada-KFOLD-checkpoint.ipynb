{
 "cells": [
  {
   "cell_type": "markdown",
   "metadata": {},
   "source": [
    "## KFOLD"
   ]
  },
  {
   "cell_type": "markdown",
   "metadata": {},
   "source": [
    "- DIVISÃO DE DADOS P TREINO E TESTE\n",
    "- EXISTEM OUTRAS FORMAS DE SEPARAÇÃO\n",
    "- UTILIZA-SE UM K(NUMERO DE PARTES QUE SERÁ DIVIDIDO O DATASET)\n",
    "- A CADA ITERAÇÃO, SERÁ UTILIZADO UMA PARTE COMO TESTE (CONJUNTO DE TESTE SE INTERCALAM NAS PARTES DIVIDIDAS)\n",
    "- ISSO PODE ALTERAR O SCORE\n",
    "- FAZ A SOMATÓRIA DO COEFICIENTE R2 E TIRA A MÉDIA DELE POR CAUSA DE CADA CASO SOBRE A DIVISÃO DE DADOS\n",
    "- UTILIZAR A VALIDAÇÃO CRUZADA, PARA COMPARAR MODELOS"
   ]
  },
  {
   "cell_type": "code",
   "execution_count": 1,
   "metadata": {},
   "outputs": [],
   "source": [
    "import pandas as pd\n",
    "dataset_raw = pd.read_csv('./Admission_Predict.csv')"
   ]
  },
  {
   "cell_type": "code",
   "execution_count": 2,
   "metadata": {},
   "outputs": [],
   "source": [
    "dataset_raw.drop('Serial No.',axis=1,inplace=True)"
   ]
  },
  {
   "cell_type": "code",
   "execution_count": 3,
   "metadata": {},
   "outputs": [],
   "source": [
    "y = dataset_raw['Chance of Admit ']\n",
    "x = dataset_raw.drop('Chance of Admit ', axis=1)"
   ]
  },
  {
   "cell_type": "code",
   "execution_count": 6,
   "metadata": {},
   "outputs": [],
   "source": [
    "from sklearn.model_selection import cross_val_score\n",
    "from sklearn.model_selection import KFold\n",
    "from sklearn.linear_model import LinearRegression"
   ]
  },
  {
   "cell_type": "code",
   "execution_count": 7,
   "metadata": {},
   "outputs": [],
   "source": [
    "modelo_regressao = LinearRegression()\n",
    "kfold = KFold(n_splits=5)\n",
    "resultado_modelo_regressao = cross_val_score(modelo_regressao, x, y, cv = kfold)"
   ]
  },
  {
   "cell_type": "code",
   "execution_count": 8,
   "metadata": {},
   "outputs": [
    {
     "name": "stdout",
     "output_type": "stream",
     "text": [
      "[0.66228895 0.76112209 0.78108683 0.84044015 0.81095904]\n"
     ]
    }
   ],
   "source": [
    "print(resultado_modelo_regressao)"
   ]
  },
  {
   "cell_type": "code",
   "execution_count": 9,
   "metadata": {},
   "outputs": [
    {
     "name": "stdout",
     "output_type": "stream",
     "text": [
      "0.7711794121066358\n"
     ]
    }
   ],
   "source": [
    "# coef R2(score) a média\n",
    "print(resultado_modelo_regressao.mean())"
   ]
  },
  {
   "cell_type": "markdown",
   "metadata": {},
   "source": [
    "## Validação para os outros algoritimos"
   ]
  },
  {
   "cell_type": "code",
   "execution_count": 24,
   "metadata": {},
   "outputs": [],
   "source": [
    "def modelo_regressao(x,y,n_splits):\n",
    "    from sklearn.linear_model import Lasso, Ridge, ElasticNet, LinearRegression\n",
    "    \n",
    "    kfold = KFold(n_splits=n_splits)\n",
    "     # LINEAR REGRESSION\n",
    "    modeloLinear = LinearRegression()\n",
    "    resultadoLinear = cross_val_score(modeloLinear, x, y, cv = kfold)\n",
    "\n",
    "    #RIDGE\n",
    "    modeloRidge = Ridge()\n",
    "    resultadoRidge =cross_val_score(modeloRidge, x, y, cv = kfold)\n",
    "\n",
    "    # LASSO\n",
    "    modeloLasso = Lasso()\n",
    "    resultadoLasso = cross_val_score(modeloLasso, x, y, cv = kfold)\n",
    "\n",
    "    # ELASTIC NET\n",
    "    modeloElastic = ElasticNet()\n",
    "    resultadoElastic = cross_val_score(modeloElastic, x, y, cv = kfold)\n",
    "    \n",
    "    print(f'O resultado da função de custo foi:\\n\\n  - Regressão Linear: {resultadoLinear.mean()}\\n  - Ridge: {resultadoRidge.mean()}\\n  - Lasso:{resultadoLasso.mean()}\\n  - Elastic Net:{resultadoElastic.mean()} ')\n",
    "    \n",
    "    list_resultados={'Regressão linear':resultadoLinear.mean(),\n",
    "                     'Regressão Ridge': resultadoRidge.mean(), \n",
    "                     'Regressão Lasso': resultadoLasso.mean(), \n",
    "                      'ElasticNet': resultadoElastic.mean()\n",
    "                    }\n",
    "    import operator\n",
    "    maior_score   = max(list_resultados.items(), key=operator.itemgetter(1))[0]\n",
    "    return f'{maior_score} : {list_resultados[maior_score]}'"
   ]
  },
  {
   "cell_type": "code",
   "execution_count": 25,
   "metadata": {},
   "outputs": [
    {
     "name": "stdout",
     "output_type": "stream",
     "text": [
      "O resultado da função de custo foi:\n",
      "\n",
      "  - Regressão Linear: 0.7703825020879946\n",
      "  - Ridge: 0.77057254829287\n",
      "  - Lasso:0.18277276199791043\n",
      "  - Elastic Net:0.49623767436974936 \n"
     ]
    },
    {
     "data": {
      "text/plain": [
       "'Regressão Ridge : 0.77057254829287'"
      ]
     },
     "execution_count": 25,
     "metadata": {},
     "output_type": "execute_result"
    }
   ],
   "source": [
    "modelo_regressao(x,y,10)"
   ]
  },
  {
   "cell_type": "code",
   "execution_count": null,
   "metadata": {},
   "outputs": [],
   "source": []
  }
 ],
 "metadata": {
  "kernelspec": {
   "display_name": "Python 3",
   "language": "python",
   "name": "python3"
  },
  "language_info": {
   "codemirror_mode": {
    "name": "ipython",
    "version": 3
   },
   "file_extension": ".py",
   "mimetype": "text/x-python",
   "name": "python",
   "nbconvert_exporter": "python",
   "pygments_lexer": "ipython3",
   "version": "3.8.5"
  }
 },
 "nbformat": 4,
 "nbformat_minor": 4
}

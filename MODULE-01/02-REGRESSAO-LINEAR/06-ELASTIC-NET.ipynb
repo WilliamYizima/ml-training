{
 "cells": [
  {
   "cell_type": "markdown",
   "metadata": {},
   "source": [
    "# ELASTIC NET"
   ]
  },
  {
   "cell_type": "markdown",
   "metadata": {},
   "source": [
    "A função de custo para o Elastic Net é a junção das funções de custo Lasso e Ridge:\n",
    "- custo = somatório (previsão - real)^2 + coeficienteC x somatório (módulo dos coeficientes) + (1-coeficienteC) x somatório(quadrado dos coeficientes)\n",
    "- coeficienteC é entre 0 e 1"
   ]
  },
  {
   "cell_type": "code",
   "execution_count": 1,
   "metadata": {},
   "outputs": [],
   "source": [
    "import pandas as pd\n",
    "from sklearn.model_selection import train_test_split\n"
   ]
  },
  {
   "cell_type": "code",
   "execution_count": 2,
   "metadata": {},
   "outputs": [],
   "source": [
    "dataset_raw = pd.read_csv('kc_house_data.csv')"
   ]
  },
  {
   "cell_type": "code",
   "execution_count": 3,
   "metadata": {},
   "outputs": [],
   "source": [
    "dataset_raw.drop('id',inplace = True,axis = 1)\n",
    "dataset_raw.drop('date',inplace = True,axis = 1)\n",
    "dataset_raw.drop('zipcode',inplace = True,axis = 1)\n",
    "dataset_raw.drop('lat',inplace = True,axis = 1)\n",
    "dataset_raw.drop('long',inplace = True,axis = 1)\n",
    "# dataset_raw.drop('view',inplace = True,axis = 1)\n",
    "# dataset_raw.drop('waterfront',inplace = True,axis = 1)"
   ]
  },
  {
   "cell_type": "code",
   "execution_count": 4,
   "metadata": {},
   "outputs": [],
   "source": [
    "x = dataset_raw.drop('price', axis=1)\n",
    "y = dataset_raw['price']"
   ]
  },
  {
   "cell_type": "code",
   "execution_count": 5,
   "metadata": {},
   "outputs": [],
   "source": [
    "x_treino, x_teste, y_treino, y_teste = train_test_split(x, y, test_size=0.30, random_state = 14)"
   ]
  },
  {
   "cell_type": "code",
   "execution_count": 23,
   "metadata": {},
   "outputs": [
    {
     "name": "stdout",
     "output_type": "stream",
     "text": [
      "0.6429961330013111\n"
     ]
    }
   ],
   "source": [
    "from sklearn.linear_model import ElasticNet\n",
    "\n",
    "modeloElastic = ElasticNet(alpha=1, l1_ratio =0.9, tol=0.2,max_iter=5000)\n",
    "modeloElastic.fit(x_treino, y_treino)\n",
    "resultadoElastic = modeloElastic.score(x_teste, y_teste)\n",
    "print(resultadoElastic)"
   ]
  },
  {
   "cell_type": "code",
   "execution_count": null,
   "metadata": {},
   "outputs": [],
   "source": []
  }
 ],
 "metadata": {
  "kernelspec": {
   "display_name": "Python 3",
   "language": "python",
   "name": "python3"
  },
  "language_info": {
   "codemirror_mode": {
    "name": "ipython",
    "version": 3
   },
   "file_extension": ".py",
   "mimetype": "text/x-python",
   "name": "python",
   "nbconvert_exporter": "python",
   "pygments_lexer": "ipython3",
   "version": "3.8.5"
  }
 },
 "nbformat": 4,
 "nbformat_minor": 4
}

{
 "cells": [
  {
   "cell_type": "code",
   "execution_count": 6,
   "metadata": {},
   "outputs": [],
   "source": [
    "import pandas as pd\n",
    "from sklearn.model_selection import train_test_split"
   ]
  },
  {
   "cell_type": "code",
   "execution_count": 2,
   "metadata": {},
   "outputs": [],
   "source": [
    "dataset_raw = pd.read_csv('kc_house_data.csv')"
   ]
  },
  {
   "cell_type": "code",
   "execution_count": 3,
   "metadata": {},
   "outputs": [],
   "source": [
    "dataset_raw.drop('id',inplace = True,axis = 1)\n",
    "dataset_raw.drop('date',inplace = True,axis = 1)\n",
    "dataset_raw.drop('zipcode',inplace = True,axis = 1)\n",
    "dataset_raw.drop('lat',inplace = True,axis = 1)\n",
    "dataset_raw.drop('long',inplace = True,axis = 1)"
   ]
  },
  {
   "cell_type": "code",
   "execution_count": 4,
   "metadata": {},
   "outputs": [],
   "source": [
    "x = dataset_raw.drop('price', axis=1)\n",
    "y = dataset_raw['price']"
   ]
  },
  {
   "cell_type": "code",
   "execution_count": 15,
   "metadata": {},
   "outputs": [],
   "source": [
    "x_treino, x_teste, y_treino, y_teste = train_test_split(x, y, test_size=0.40, random_state = 14)"
   ]
  },
  {
   "cell_type": "code",
   "execution_count": 16,
   "metadata": {},
   "outputs": [],
   "source": [
    "def modelosRegressao(x_treino, y_treino, x_teste, y_teste):\n",
    "    from sklearn.linear_model import Lasso, Ridge, ElasticNet, LinearRegression\n",
    "\n",
    "    # LINEAR REGRESSION\n",
    "    modeloLinear = LinearRegression()\n",
    "    modeloLinear.fit(x_treino, y_treino)\n",
    "    resultadoLinear = modeloLinear.score(x_teste, y_teste)\n",
    "\n",
    "    #RIDGE\n",
    "    modeloRidge = Ridge(alpha=10)\n",
    "    modeloRidge.fit(x_treino, y_treino)\n",
    "    resultadoRidge = modeloRidge.score(x_teste, y_teste)\n",
    "\n",
    "    # LASSO\n",
    "    modeloLasso = Lasso(alpha=1000, max_iter=5000, tol=0.1)\n",
    "    modeloLasso.fit(x_treino, y_treino)\n",
    "    resultadoLasso = modeloLasso.score(x_teste, y_teste)\n",
    "\n",
    "\n",
    "    # ELASTIC NET\n",
    "    modeloElastic = ElasticNet(alpha=1, l1_ratio =0.9, tol=0.2,max_iter=5000)\n",
    "    modeloElastic.fit(x_treino, y_treino)\n",
    "    resultadoElastic = modeloElastic.score(x_teste, y_teste)\n",
    "    print(f'O resultado da função de custo foi:\\n\\n  - Regressão Linear: {resultadoLinear}\\n  - Ridge: {resultadoRidge}\\n  - Lasso:{resultadoLasso}\\n  - Elastic Net:{resultadoElastic} ')"
   ]
  },
  {
   "cell_type": "code",
   "execution_count": 14,
   "metadata": {},
   "outputs": [
    {
     "name": "stdout",
     "output_type": "stream",
     "text": [
      "O resultado da função de custo foi:\n",
      "\n",
      "  - Regressão Linear: 0.6538094196281063\n",
      "  - Ridge: 0.6545037069731696\n",
      "  - Lasso:0.6547706041742776\n",
      "  - Elastic Net:0.6429961330013111 \n"
     ]
    }
   ],
   "source": [
    "modelosRegressao(x_treino, y_treino, x_teste, y_teste)"
   ]
  },
  {
   "cell_type": "code",
   "execution_count": 17,
   "metadata": {},
   "outputs": [
    {
     "name": "stdout",
     "output_type": "stream",
     "text": [
      "O resultado da função de custo foi:\n",
      "\n",
      "  - Regressão Linear: 0.660161937048485\n",
      "  - Ridge: 0.6606245352090785\n",
      "  - Lasso:0.6602505848339049\n",
      "  - Elastic Net:0.646935502002387 \n"
     ]
    },
    {
     "name": "stderr",
     "output_type": "stream",
     "text": [
      "C:\\Users\\william.yizima\\anaconda3\\lib\\site-packages\\sklearn\\linear_model\\_coordinate_descent.py:529: ConvergenceWarning: Objective did not converge. You might want to increase the number of iterations. Duality gap: 297173391907609.9, tolerance: 177598984678092.22\n",
      "  model = cd_fast.enet_coordinate_descent(\n"
     ]
    }
   ],
   "source": [
    "# 40% teste\n",
    "modelosRegressao(x_treino, y_treino, x_teste, y_teste)"
   ]
  },
  {
   "cell_type": "code",
   "execution_count": null,
   "metadata": {},
   "outputs": [],
   "source": []
  }
 ],
 "metadata": {
  "kernelspec": {
   "display_name": "Python 3",
   "language": "python",
   "name": "python3"
  },
  "language_info": {
   "codemirror_mode": {
    "name": "ipython",
    "version": 3
   },
   "file_extension": ".py",
   "mimetype": "text/x-python",
   "name": "python",
   "nbconvert_exporter": "python",
   "pygments_lexer": "ipython3",
   "version": "3.8.5"
  }
 },
 "nbformat": 4,
 "nbformat_minor": 4
}

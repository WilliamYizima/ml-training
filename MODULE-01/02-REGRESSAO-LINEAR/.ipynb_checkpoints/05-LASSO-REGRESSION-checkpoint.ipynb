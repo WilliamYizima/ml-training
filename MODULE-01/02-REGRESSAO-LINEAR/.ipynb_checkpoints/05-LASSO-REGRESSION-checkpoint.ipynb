{
 "cells": [
  {
   "cell_type": "markdown",
   "metadata": {},
   "source": [
    "# Lasso Regression"
   ]
  },
  {
   "cell_type": "markdown",
   "metadata": {},
   "source": [
    "A diferença entre uma regressão linear, Ridge-Regression e Lasso Regression basicamente é o cálculo da função de custo.\n",
    "- A função de custo da regressão linear não tem regularização.\n",
    "- A função de custo da Ridge-Regressession utiliza regularização L2 (termos ao quadrado).\n",
    "- A função de custo Lasso-Regression utiliza regularização L1(termos em módulo)."
   ]
  },
  {
   "cell_type": "code",
   "execution_count": 1,
   "metadata": {},
   "outputs": [],
   "source": [
    "import pandas as pd\n",
    "from sklearn.model_selection import train_test_split\n"
   ]
  },
  {
   "cell_type": "code",
   "execution_count": 2,
   "metadata": {},
   "outputs": [],
   "source": [
    "dataset_raw = pd.read_csv('kc_house_data.csv')"
   ]
  },
  {
   "cell_type": "code",
   "execution_count": 3,
   "metadata": {},
   "outputs": [],
   "source": [
    "dataset_raw.drop('id',inplace = True,axis = 1)\n",
    "dataset_raw.drop('date',inplace = True,axis = 1)\n",
    "dataset_raw.drop('zipcode',inplace = True,axis = 1)\n",
    "dataset_raw.drop('lat',inplace = True,axis = 1)\n",
    "dataset_raw.drop('long',inplace = True,axis = 1)\n",
    "# dataset_raw.drop('view',inplace = True,axis = 1)\n",
    "# dataset_raw.drop('waterfront',inplace = True,axis = 1)"
   ]
  },
  {
   "cell_type": "code",
   "execution_count": 4,
   "metadata": {},
   "outputs": [],
   "source": [
    "x = dataset_raw.drop('price', axis=1)\n",
    "y = dataset_raw['price']"
   ]
  },
  {
   "cell_type": "code",
   "execution_count": 5,
   "metadata": {},
   "outputs": [],
   "source": [
    "x_treino, x_teste, y_treino, y_teste = train_test_split(x, y, test_size=0.30, random_state = 14)"
   ]
  },
  {
   "cell_type": "code",
   "execution_count": 16,
   "metadata": {},
   "outputs": [
    {
     "name": "stdout",
     "output_type": "stream",
     "text": [
      "0.6547706041742776\n"
     ]
    }
   ],
   "source": [
    "from sklearn.linear_model import Lasso\n",
    "\n",
    "modeloLasso = Lasso(alpha=1000, max_iter=5000, tol=0.1)\n",
    "# tol é a tolerancia referente ao gap entre uma iteração ou outra do gradiente descendente\n",
    "modeloLasso.fit(x_treino, y_treino)\n",
    "resultadoLasso = modeloLasso.score(x_teste, y_teste)\n",
    "print(resultadoLasso)"
   ]
  },
  {
   "cell_type": "code",
   "execution_count": 8,
   "metadata": {},
   "outputs": [
    {
     "name": "stdout",
     "output_type": "stream",
     "text": [
      "0.6538117156908521\n"
     ]
    },
    {
     "name": "stderr",
     "output_type": "stream",
     "text": [
      "C:\\Users\\william.yizima\\anaconda3\\lib\\site-packages\\sklearn\\linear_model\\_coordinate_descent.py:529: ConvergenceWarning: Objective did not converge. You might want to increase the number of iterations. Duality gap: 332862131822096.9, tolerance: 209305962424.49078\n",
      "  model = cd_fast.enet_coordinate_descent(\n"
     ]
    }
   ],
   "source": [
    "from sklearn.linear_model import Lasso\n",
    "\n",
    "modeloLasso = Lasso(alpha=1)\n",
    "modeloLasso.fit(x_treino, y_treino)\n",
    "resultadoLasso = modeloLasso.score(x_teste, y_teste)\n",
    "print(resultadoLasso)"
   ]
  },
  {
   "cell_type": "code",
   "execution_count": null,
   "metadata": {},
   "outputs": [],
   "source": []
  }
 ],
 "metadata": {
  "kernelspec": {
   "display_name": "Python 3",
   "language": "python",
   "name": "python3"
  },
  "language_info": {
   "codemirror_mode": {
    "name": "ipython",
    "version": 3
   },
   "file_extension": ".py",
   "mimetype": "text/x-python",
   "name": "python",
   "nbconvert_exporter": "python",
   "pygments_lexer": "ipython3",
   "version": "3.8.5"
  }
 },
 "nbformat": 4,
 "nbformat_minor": 4
}
